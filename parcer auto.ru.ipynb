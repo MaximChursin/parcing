{
 "cells": [
  {
   "cell_type": "code",
   "execution_count": 44,
   "id": "9e4341e1",
   "metadata": {},
   "outputs": [],
   "source": [
    "import pandas as pd\n",
    "import requests\n",
    "from lxml import html"
   ]
  },
  {
   "cell_type": "code",
   "execution_count": 69,
   "id": "3a29af8e",
   "metadata": {},
   "outputs": [],
   "source": [
    "def get_info():\n",
    "    r = requests.get(\"https://auto.ru/rossiya/cars/bmw/all/\")\n",
    "    print(r.content)\n",
    "    tree = html.fromstring(r.content)\n",
    "    titles_xpath = tree.xpath(\"//a[@class='Link ListingItemTitle__link']\")\n",
    "    prices_xpath = tree.xpath(\"//div[@class = 'ListingItem__priceBlock']\")\n",
    "    print(prices_xpath)"
   ]
  },
  {
   "cell_type": "code",
   "execution_count": 41,
   "id": "cccfc493",
   "metadata": {},
   "outputs": [
    {
     "name": "stdout",
     "output_type": "stream",
     "text": [
      "<Element html at 0x1d7e4c85b80>\n"
     ]
    }
   ],
   "source": [
    "\"\"\"r = requests.get(\"https://auto.ru/rossiya/cars/bmw/all/\")\n",
    "tree = html.fromstring(r.content)\n",
    "title = tree.xpath(\"//a[@class='Link ListingItemTitle__link']\")\n",
    "#print(title)\n",
    "print(tree)\"\"\""
   ]
  },
  {
   "cell_type": "code",
   "execution_count": 70,
   "id": "94d2b87d",
   "metadata": {},
   "outputs": [
    {
     "name": "stdout",
     "output_type": "stream",
     "text": [
      "[]\n"
     ]
    }
   ],
   "source": [
    "if __name__ == '__main__':\n",
    "    get_info()"
   ]
  }
 ],
 "metadata": {
  "kernelspec": {
   "display_name": "Python 3 (ipykernel)",
   "language": "python",
   "name": "python3"
  },
  "language_info": {
   "codemirror_mode": {
    "name": "ipython",
    "version": 3
   },
   "file_extension": ".py",
   "mimetype": "text/x-python",
   "name": "python",
   "nbconvert_exporter": "python",
   "pygments_lexer": "ipython3",
   "version": "3.11.7"
  }
 },
 "nbformat": 4,
 "nbformat_minor": 5
}
